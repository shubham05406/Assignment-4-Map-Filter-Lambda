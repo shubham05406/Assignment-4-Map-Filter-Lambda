{
 "cells": [
  {
   "cell_type": "code",
   "execution_count": null,
   "id": "b662d846",
   "metadata": {},
   "outputs": [],
   "source": [
    "#Write a Python program to create a lambda function that adds 25 to a given number passed in as an argument.\n",
    "\n"
   ]
  },
  {
   "cell_type": "code",
   "execution_count": 3,
   "id": "69ca145c",
   "metadata": {},
   "outputs": [
    {
     "name": "stdout",
     "output_type": "stream",
     "text": [
      "Enter the number:10\n",
      "35\n"
     ]
    }
   ],
   "source": [
    "a=int(input(\"Enter the number:\" ))\n",
    "result=lambda a:a+25\n",
    "print(result(a))"
   ]
  },
  {
   "cell_type": "code",
   "execution_count": null,
   "id": "1c33595d",
   "metadata": {},
   "outputs": [],
   "source": [
    "#Write a Python program to triple all numbers of a given list of integers. Use Python map."
   ]
  },
  {
   "cell_type": "code",
   "execution_count": 7,
   "id": "d76867cb",
   "metadata": {},
   "outputs": [
    {
     "name": "stdout",
     "output_type": "stream",
     "text": [
      "Enter the size of a list :7\n",
      "Enter the numbers: 1\n",
      "Enter the numbers: 2\n",
      "Enter the numbers: 3\n",
      "Enter the numbers: 4\n",
      "Enter the numbers: 5\n",
      "Enter the numbers: 6\n",
      "Enter the numbers: 7\n",
      "[1, 2, 3, 4, 5, 6, 7]\n",
      "[3, 6, 9, 12, 15, 18, 21]\n"
     ]
    }
   ],
   "source": [
    "def triple(a):\n",
    "    return a+a+a\n",
    "list1=[]\n",
    "input_1=int(input(\"Enter the size of a list :\"))\n",
    "for i in range(input_1):\n",
    "    list1.append(int(input(\"Enter the numbers: \")))\n",
    "print(list1)\n",
    "result=list(map(triple,list1))\n",
    "print(result)\n",
    "\n",
    "\n"
   ]
  },
  {
   "cell_type": "code",
   "execution_count": null,
   "id": "0a5b214f",
   "metadata": {},
   "outputs": [],
   "source": [
    "#Write a Python program to square the elements of a list using map() function."
   ]
  },
  {
   "cell_type": "code",
   "execution_count": 9,
   "id": "d29fd301",
   "metadata": {},
   "outputs": [
    {
     "name": "stdout",
     "output_type": "stream",
     "text": [
      "Enter the size of the sample list: 4\n",
      "Enter the numbers: 4\n",
      "Enter the numbers: 5\n",
      "Enter the numbers: 2\n",
      "Enter the numbers: 9\n",
      "[4, 5, 2, 9]\n",
      "[16, 25, 4, 81]\n"
     ]
    }
   ],
   "source": [
    "def square(a):\n",
    "    return a*a\n",
    "Sample_List=[]\n",
    "list1=int(input(\"Enter the size of the sample list: \"))\n",
    "for i in range(list1):\n",
    "    Sample_List.append(int(input(\"Enter the numbers: \")))\n",
    "print(Sample_List)\n",
    "output=list(map(square,Sample_List))\n",
    "print(output)"
   ]
  },
  {
   "cell_type": "code",
   "execution_count": null,
   "id": "22eae967",
   "metadata": {},
   "outputs": [],
   "source": []
  }
 ],
 "metadata": {
  "kernelspec": {
   "display_name": "Python 3 (ipykernel)",
   "language": "python",
   "name": "python3"
  },
  "language_info": {
   "codemirror_mode": {
    "name": "ipython",
    "version": 3
   },
   "file_extension": ".py",
   "mimetype": "text/x-python",
   "name": "python",
   "nbconvert_exporter": "python",
   "pygments_lexer": "ipython3",
   "version": "3.9.12"
  }
 },
 "nbformat": 4,
 "nbformat_minor": 5
}
